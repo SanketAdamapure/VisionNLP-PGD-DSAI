{
 "cells": [
  {
   "cell_type": "markdown",
   "metadata": {},
   "source": [
    "#                                                 Assignment-1\n"
   ]
  },
  {
   "cell_type": "markdown",
   "metadata": {},
   "source": [
    "### Basic Python"
   ]
  },
  {
   "cell_type": "raw",
   "metadata": {},
   "source": [
    "Q.1\n",
    "Perform following operations on the given list.\n",
    "List1 = [15,23,27,16,19,65,34]"
   ]
  },
  {
   "cell_type": "code",
   "execution_count": 1,
   "metadata": {},
   "outputs": [
    {
     "data": {
      "text/plain": [
       "[15, 23, 27, 16, 19, 65, 34]"
      ]
     },
     "execution_count": 1,
     "metadata": {},
     "output_type": "execute_result"
    }
   ],
   "source": [
    "# a) Sort the given list1 by ascending order?\n",
    "List1=[15,23,27,16,19,65,34]\n",
    "List1"
   ]
  },
  {
   "cell_type": "code",
   "execution_count": 2,
   "metadata": {},
   "outputs": [
    {
     "data": {
      "text/plain": [
       "[15, 16, 19, 23, 27, 34, 65]"
      ]
     },
     "execution_count": 2,
     "metadata": {},
     "output_type": "execute_result"
    }
   ],
   "source": [
    "List1.sort()\n",
    "List1"
   ]
  },
  {
   "cell_type": "code",
   "execution_count": 3,
   "metadata": {},
   "outputs": [
    {
     "data": {
      "text/plain": [
       "[65, 34, 27, 23, 19, 16, 15]"
      ]
     },
     "execution_count": 3,
     "metadata": {},
     "output_type": "execute_result"
    }
   ],
   "source": [
    "# b) Sort the given list1 by descending order?\n",
    "List1.sort(reverse=True)\n",
    "List1"
   ]
  },
  {
   "cell_type": "code",
   "execution_count": 4,
   "metadata": {},
   "outputs": [
    {
     "data": {
      "text/plain": [
       "15"
      ]
     },
     "execution_count": 4,
     "metadata": {},
     "output_type": "execute_result"
    }
   ],
   "source": [
    "# c) Compute the minimum from list1?\n",
    "min(List1)"
   ]
  },
  {
   "cell_type": "code",
   "execution_count": 5,
   "metadata": {},
   "outputs": [
    {
     "data": {
      "text/plain": [
       "65"
      ]
     },
     "execution_count": 5,
     "metadata": {},
     "output_type": "execute_result"
    }
   ],
   "source": [
    "# d) Compute the Maximum from list1?\n",
    "max(List1)"
   ]
  },
  {
   "cell_type": "code",
   "execution_count": 6,
   "metadata": {},
   "outputs": [
    {
     "data": {
      "text/plain": [
       "[23221, 36363, 54433, 43321, 51658, 56595]"
      ]
     },
     "execution_count": 6,
     "metadata": {},
     "output_type": "execute_result"
    }
   ],
   "source": [
    "# Q.2 Perform following operations on the given list.\n",
    "List2 = [23221,36363,54433,43321,51658,56595]\n",
    "List2"
   ]
  },
  {
   "cell_type": "code",
   "execution_count": 7,
   "metadata": {},
   "outputs": [
    {
     "data": {
      "text/plain": [
       "6"
      ]
     },
     "execution_count": 7,
     "metadata": {},
     "output_type": "execute_result"
    }
   ],
   "source": [
    "# a) Compute the Length of list2?\n",
    "len(List2)"
   ]
  },
  {
   "cell_type": "code",
   "execution_count": 8,
   "metadata": {},
   "outputs": [
    {
     "name": "stdout",
     "output_type": "stream",
     "text": [
      "[54433, 43321]\n"
     ]
    }
   ],
   "source": [
    "# b) Extract elements from 2 to 4 indexes in list2?\n",
    "print(List2[2:4])"
   ]
  },
  {
   "cell_type": "code",
   "execution_count": 9,
   "metadata": {},
   "outputs": [
    {
     "data": {
      "text/plain": [
       "56595"
      ]
     },
     "execution_count": 9,
     "metadata": {},
     "output_type": "execute_result"
    }
   ],
   "source": [
    "# c) Extract the last element from the list2?\n",
    "n=len(List2)\n",
    "List2[n-1]"
   ]
  },
  {
   "cell_type": "code",
   "execution_count": 10,
   "metadata": {},
   "outputs": [
    {
     "name": "stdout",
     "output_type": "stream",
     "text": [
      "[23221, 36363, 54433, 51658, 56595]\n"
     ]
    }
   ],
   "source": [
    "# d) Delete element of 3rd index from list2?\n",
    "List2.pop(3)\n",
    "print(List2)"
   ]
  },
  {
   "cell_type": "code",
   "execution_count": 11,
   "metadata": {},
   "outputs": [
    {
     "name": "stdout",
     "output_type": "stream",
     "text": [
      "['Mumbai', 'Chennai', 'Banglore', 'Pune', 'Hyderabad']\n"
     ]
    }
   ],
   "source": [
    "# Q.3 Perform following operations on the given list.\n",
    "List3=['Mumbai','Chennai','Banglore','Pune','Hyderabad']\n",
    "print(List3)"
   ]
  },
  {
   "cell_type": "code",
   "execution_count": 12,
   "metadata": {},
   "outputs": [
    {
     "name": "stdout",
     "output_type": "stream",
     "text": [
      "['Chennai', 'Mumbai', 'Banglore', 'Pune', 'Hyderabad']\n"
     ]
    }
   ],
   "source": [
    "# a) Replace Chennai by Mumbai in List3?\n",
    "List3[0]=('Chennai')\n",
    "List3[1]=('Mumbai')\n",
    "print(List3)"
   ]
  },
  {
   "cell_type": "code",
   "execution_count": 13,
   "metadata": {},
   "outputs": [
    {
     "name": "stdout",
     "output_type": "stream",
     "text": [
      "['Chennai', 'Mumbai', 'Banglore', 'Pune', 'Hyderabad', 'Delhi']\n"
     ]
    }
   ],
   "source": [
    "# b) Add ‘Delhi’ in list3 and print(list3)?\n",
    "List3.append('Delhi')\n",
    "print(List3)"
   ]
  },
  {
   "cell_type": "code",
   "execution_count": 14,
   "metadata": {},
   "outputs": [
    {
     "name": "stdout",
     "output_type": "stream",
     "text": [
      "[1, 2, 3, 1, 5, 2, 6, 5]\n"
     ]
    }
   ],
   "source": [
    "# Q.4 Perform following operations on the given list.\n",
    "List4= [1,2,3,1,5,2,6,5] \n",
    "print(List4)"
   ]
  },
  {
   "cell_type": "code",
   "execution_count": 15,
   "metadata": {},
   "outputs": [
    {
     "name": "stdout",
     "output_type": "stream",
     "text": [
      "2\n"
     ]
    }
   ],
   "source": [
    "# a) How much time element “1” repeats in list4?\n",
    "print(List4.count(1))"
   ]
  },
  {
   "cell_type": "code",
   "execution_count": 16,
   "metadata": {},
   "outputs": [
    {
     "name": "stdout",
     "output_type": "stream",
     "text": [
      "[1, 2, 3, 1, 5, 2, 5]\n"
     ]
    }
   ],
   "source": [
    "# b) Delete ‘6’ element from list4?\n",
    "List4.remove(6)\n",
    "print(List4)"
   ]
  },
  {
   "cell_type": "code",
   "execution_count": 17,
   "metadata": {},
   "outputs": [
    {
     "name": "stdout",
     "output_type": "stream",
     "text": [
      "[1, 2, 3, 1, 5, 2]\n"
     ]
    }
   ],
   "source": [
    "# Alternative Way\n",
    "List4.pop(6)\n",
    "print(List4)"
   ]
  },
  {
   "cell_type": "code",
   "execution_count": 18,
   "metadata": {},
   "outputs": [
    {
     "name": "stdout",
     "output_type": "stream",
     "text": [
      "1\n",
      "2\n",
      "3\n",
      "4\n",
      "5\n",
      "6\n",
      "7\n",
      "8\n",
      "9\n",
      "10\n",
      "11\n",
      "12\n",
      "13\n",
      "14\n",
      "15\n"
     ]
    }
   ],
   "source": [
    "# Q.5 Using while loop print first 15 Natural numbers?\n",
    "i=1\n",
    "while i<16:\n",
    "    print (i)\n",
    "    i=i+1"
   ]
  },
  {
   "cell_type": "code",
   "execution_count": 19,
   "metadata": {},
   "outputs": [
    {
     "name": "stdout",
     "output_type": "stream",
     "text": [
      "[90, 80, 70, 60, 50, 40]\n"
     ]
    }
   ],
   "source": [
    "# Q.6 List1 = [40,50,60,70,80,90] print above list in reverse order using a loop?\n",
    "List1=[40,50,60,70,80,90]\n",
    "i=5\n",
    "new=[]\n",
    "while i>=0:\n",
    "    new.insert(List1[i],List1[-1])\n",
    "    List1.pop(-1)\n",
    "    i=i-1      \n",
    "print(new)   "
   ]
  },
  {
   "cell_type": "code",
   "execution_count": 20,
   "metadata": {},
   "outputs": [
    {
     "name": "stdout",
     "output_type": "stream",
     "text": [
      "[90, 80, 70, 60, 50, 40]\n"
     ]
    }
   ],
   "source": [
    "# By Using For Loop\n",
    "listf=[40,50,60,70,80,90]\n",
    "new_list=[]\n",
    "for i in range(len(listf)):\n",
    "    new_list.insert(i,listf[-1])\n",
    "    listf.pop(-1)\n",
    "print(new_list)"
   ]
  },
  {
   "cell_type": "code",
   "execution_count": 21,
   "metadata": {},
   "outputs": [
    {
     "name": "stdout",
     "output_type": "stream",
     "text": [
      "Total Number of Digits :4\n"
     ]
    }
   ],
   "source": [
    "#Q.7 Write a python program to count the total number of digits in a number using a while loop?\n",
    "dig=4563\n",
    "count=0\n",
    "while dig!=0:\n",
    "    dig//=10\n",
    "    count+=1\n",
    "print(\"Total Number of Digits :\" + str(count))"
   ]
  },
  {
   "cell_type": "code",
   "execution_count": 22,
   "metadata": {},
   "outputs": [
    {
     "name": "stdout",
     "output_type": "stream",
     "text": [
      "[45, 140, 170, 425, 45]\n"
     ]
    }
   ],
   "source": [
    "# Q.8 Write a code to display only those numbers from given list that satisfy the following conditions.\n",
    "# a) The number must be divisible by five\n",
    "# b) If the number is greater than 500, then stop the loop\n",
    "\n",
    "numbers = [45, 32, 140, 170, 352, 425, 45]\n",
    "n1=[]\n",
    "for i in numbers:\n",
    "    if i%5==0:\n",
    "        n1.append(i)\n",
    "        if i>500:\n",
    "            break\n",
    "print(n1)            "
   ]
  },
  {
   "cell_type": "code",
   "execution_count": 23,
   "metadata": {},
   "outputs": [
    {
     "name": "stdout",
     "output_type": "stream",
     "text": [
      "-10\n",
      "-9\n",
      "-8\n",
      "-7\n",
      "-6\n",
      "-5\n",
      "-4\n",
      "-3\n",
      "-2\n",
      "-1\n"
     ]
    }
   ],
   "source": [
    "# Q.9 Write a python code to display numbers from -10 to -1 using for loop?\n",
    "for i in range (-10,0):\n",
    "    print(i)"
   ]
  },
  {
   "cell_type": "code",
   "execution_count": 24,
   "metadata": {},
   "outputs": [
    {
     "name": "stdout",
     "output_type": "stream",
     "text": [
      "The elements in odd position are : \n",
      "22\n",
      "44\n",
      "66\n",
      "88\n",
      "110\n"
     ]
    }
   ],
   "source": [
    "# Q.10 Use a loop to display elements from a given list present at odd index positions.\n",
    "List_1 = [11, 22, 33, 44, 55, 66, 77, 88, 99, 110]\n",
    "print (\"The elements in odd position are : \")\n",
    "for i in range (1,len(List_1),2):\n",
    "    print(List_1[i])"
   ]
  },
  {
   "cell_type": "code",
   "execution_count": null,
   "metadata": {},
   "outputs": [],
   "source": []
  }
 ],
 "metadata": {
  "kernelspec": {
   "display_name": "Python 3",
   "language": "python",
   "name": "python3"
  },
  "language_info": {
   "codemirror_mode": {
    "name": "ipython",
    "version": 3
   },
   "file_extension": ".py",
   "mimetype": "text/x-python",
   "name": "python",
   "nbconvert_exporter": "python",
   "pygments_lexer": "ipython3",
   "version": "3.8.3"
  }
 },
 "nbformat": 4,
 "nbformat_minor": 4
}
